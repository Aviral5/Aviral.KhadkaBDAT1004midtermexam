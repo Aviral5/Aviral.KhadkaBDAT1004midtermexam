{
 "cells": [
  {
   "cell_type": "markdown",
   "id": "e09ee9ab",
   "metadata": {},
   "source": [
    "# Question 21\n",
    "\n",
    "\n",
    "In a jupyter notebook solve the following question. Please upload the notebook to GitHub and provide the link submission box below.\n",
    "\n",
    "__int()__: Constructor that takes as input a pair of Point objects that represent the ends points of the line segment\n",
    "\n",
    "Length():: returns the length if the segment \n",
    "\n",
    "Slope() returns the slope of the segment of none if the slope is unbounded \n",
    " \n",
    "\n",
    ">>> p1 = Point(3,4)\n",
    "\n",
    ">>> p2 = Point()\n",
    "\n",
    ">>> s = Segment(p1,p2)\n",
    "\n",
    ">>> s.length()\n",
    "\n",
    "5.0\n",
    "\n",
    ">>> s.slope()\n",
    "\n",
    "0.75"
   ]
  },
  {
   "cell_type": "code",
   "execution_count": 19,
   "id": "f1c3b6a1",
   "metadata": {},
   "outputs": [
    {
     "name": "stdout",
     "output_type": "stream",
     "text": [
      "5.0\n",
      "1.3333333333333333\n"
     ]
    }
   ],
   "source": [
    "import math\n",
    "\n",
    "class Point:\n",
    "    def __init__(self, x=0, y=0):\n",
    "        self.x = x\n",
    "        self.y = y\n",
    "\n",
    "class Segment:\n",
    "    def __init__(self, p1, p2):\n",
    "        self.p1 = p1\n",
    "        self.p2 = p2\n",
    "\n",
    "    def length(self):\n",
    "        x1, y1 = self.p1.x, self.p1.y\n",
    "        x2, y2 = self.p2.x, self.p2.y\n",
    "        return math.sqrt((x2 - x1) ** 2 + (y2 - y1) ** 2)\n",
    "\n",
    "    def slope(self):\n",
    "        x1, y1 = self.p1.x, self.p1.y\n",
    "        x2, y2 = self.p2.x, self.p2.y\n",
    "\n",
    "        # Checkicking if the segment is vertical \n",
    "        if x2 - x1 == 0:\n",
    "            return None\n",
    "        else:\n",
    "            return (y2 - y1) / (x2 - x1)\n",
    "\n",
    "# usage\n",
    "p1 = Point(3, 4)\n",
    "p2 = Point()  # Assuming default cordinates (0, 0)\n",
    "s = Segment(p1, p2)\n",
    "\n",
    "print(s.length())  \n",
    "print(s.slope())  \n"
   ]
  },
  {
   "cell_type": "markdown",
   "id": "9ba943c2",
   "metadata": {},
   "source": [
    "\n",
    "# Question 22\n",
    "In a jupyter notebook solve the following question using both python and SQL. Please upload the notebook to GitHub and provide the link submission box belo"
   ]
  },
  {
   "cell_type": "code",
   "execution_count": 14,
   "id": "8cf750a5",
   "metadata": {},
   "outputs": [
    {
     "data": {
      "text/plain": [
       "<sqlite3.Cursor at 0x19635e027c0>"
      ]
     },
     "execution_count": 14,
     "metadata": {},
     "output_type": "execute_result"
    }
   ],
   "source": [
    "import sqlite3\n",
    "\n",
    "# Connecting to the database \n",
    "conn = sqlite3.connect('temp.db')\n",
    "\n",
    "# Creating a cursor object to execute SQL queries\n",
    "cursor = conn.cursor()\n",
    "\n",
    "# Creating Weather table and inserting data\n",
    "cursor.execute('''\n",
    "    CREATE TABLE IF NOT EXISTS temp (\n",
    "        id INTEGER PRIMARY KEY,\n",
    "        recordDate DATE,\n",
    "        temperature INTEGER\n",
    "    )\n",
    "''')\n"
   ]
  },
  {
   "cell_type": "code",
   "execution_count": 15,
   "id": "59f92890",
   "metadata": {},
   "outputs": [
    {
     "data": {
      "text/plain": [
       "<sqlite3.Cursor at 0x19635e027c0>"
      ]
     },
     "execution_count": 15,
     "metadata": {},
     "output_type": "execute_result"
    }
   ],
   "source": [
    "temp = [\n",
    "    (1, '2015-01-01', 10),\n",
    "    (2, '2015-01-02', 25),\n",
    "    (3, '2015-01-03', 20),\n",
    "    (4, '2015-01-04', 30)\n",
    "]\n",
    "\n",
    "cursor.executemany('INSERT INTO temp (id, recordDate, temperature) VALUES (?, ?, ?)', temp)"
   ]
  },
  {
   "cell_type": "code",
   "execution_count": 17,
   "id": "c277344c",
   "metadata": {},
   "outputs": [
    {
     "data": {
      "text/plain": [
       "<sqlite3.Cursor at 0x19635e027c0>"
      ]
     },
     "execution_count": 17,
     "metadata": {},
     "output_type": "execute_result"
    }
   ],
   "source": [
    "\n",
    "cursor.execute('''\n",
    "    SELECT wf.id\n",
    "    FROM temp wf\n",
    "    WHERE wf.temperature > (\n",
    "        SELECT temperature\n",
    "        FROM temp\n",
    "        WHERE recordDate=DATE(wf.recordDate, '-1 day')\n",
    "    )\n",
    "''')"
   ]
  },
  {
   "cell_type": "code",
   "execution_count": 18,
   "id": "636244ba",
   "metadata": {},
   "outputs": [
    {
     "name": "stdout",
     "output_type": "stream",
     "text": [
      "2\n",
      "4\n"
     ]
    }
   ],
   "source": [
    "\n",
    "results = cursor.fetchall()\n",
    "\n",
    "#  results\n",
    "for row in results:\n",
    "    print(row[0])\n",
    "\n",
    "# Commiting the connection\n",
    "conn.commit()\n"
   ]
  },
  {
   "cell_type": "markdown",
   "id": "b9d6a568",
   "metadata": {},
   "source": [
    "# Question 23\n",
    "Develop a recursive function tough() that takes two nonnegative integer arguments and outputs a pattern as shown below. Hint: The first argument represents the indentation of the pattern, where the second argument -- always a pattern of 2 indicates the number *s in the longest line of *s in the pattern"
   ]
  },
  {
   "cell_type": "code",
   "execution_count": 23,
   "id": "5548e86b",
   "metadata": {},
   "outputs": [],
   "source": [
    "def f(indent, num):\n",
    "    if num > 0:\n",
    "        f(indent, num // 2)\n",
    "        print(\" \" * indent + \"*\" * num)\n",
    "        f(indent + num // 2, num // 2)\n",
    "\n",
    "# Example usage:\n",
    "f(0, 0)\n"
   ]
  },
  {
   "cell_type": "code",
   "execution_count": 24,
   "id": "c5a703db",
   "metadata": {},
   "outputs": [
    {
     "name": "stdout",
     "output_type": "stream",
     "text": [
      "*\n"
     ]
    }
   ],
   "source": [
    "f(0, 1)"
   ]
  },
  {
   "cell_type": "code",
   "execution_count": 25,
   "id": "1eb4f3b2",
   "metadata": {},
   "outputs": [
    {
     "name": "stdout",
     "output_type": "stream",
     "text": [
      "*\n",
      "**\n",
      " *\n"
     ]
    }
   ],
   "source": [
    "f(0, 2)"
   ]
  },
  {
   "cell_type": "code",
   "execution_count": 26,
   "id": "03770c18",
   "metadata": {},
   "outputs": [
    {
     "name": "stdout",
     "output_type": "stream",
     "text": [
      "*\n",
      "**\n",
      " *\n",
      "****\n",
      "  *\n",
      "  **\n",
      "   *\n"
     ]
    }
   ],
   "source": [
    "f(0, 4)"
   ]
  },
  {
   "cell_type": "code",
   "execution_count": null,
   "id": "e0814f21",
   "metadata": {},
   "outputs": [],
   "source": []
  }
 ],
 "metadata": {
  "kernelspec": {
   "display_name": "Python 3 (ipykernel)",
   "language": "python",
   "name": "python3"
  },
  "language_info": {
   "codemirror_mode": {
    "name": "ipython",
    "version": 3
   },
   "file_extension": ".py",
   "mimetype": "text/x-python",
   "name": "python",
   "nbconvert_exporter": "python",
   "pygments_lexer": "ipython3",
   "version": "3.11.4"
  }
 },
 "nbformat": 4,
 "nbformat_minor": 5
}
